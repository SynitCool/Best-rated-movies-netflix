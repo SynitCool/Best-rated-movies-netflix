{
 "cells": [
  {
   "cell_type": "code",
   "execution_count": 1,
   "id": "7b1c8a7e",
   "metadata": {},
   "outputs": [],
   "source": [
    "import pandas as pd\n",
    "import numpy as np\n",
    "\n",
    "import matplotlib.pyplot as plt\n",
    "import seaborn as sns"
   ]
  },
  {
   "cell_type": "code",
   "execution_count": 2,
   "id": "81c7b140",
   "metadata": {},
   "outputs": [
    {
     "data": {
      "text/html": [
       "<div>\n",
       "<style scoped>\n",
       "    .dataframe tbody tr th:only-of-type {\n",
       "        vertical-align: middle;\n",
       "    }\n",
       "\n",
       "    .dataframe tbody tr th {\n",
       "        vertical-align: top;\n",
       "    }\n",
       "\n",
       "    .dataframe thead th {\n",
       "        text-align: right;\n",
       "    }\n",
       "</style>\n",
       "<table border=\"1\" class=\"dataframe\">\n",
       "  <thead>\n",
       "    <tr style=\"text-align: right;\">\n",
       "      <th></th>\n",
       "      <th>imdb_title_id</th>\n",
       "      <th>show_id</th>\n",
       "      <th>release_year</th>\n",
       "      <th>type</th>\n",
       "      <th>minutely</th>\n",
       "      <th>description</th>\n",
       "      <th>duration</th>\n",
       "      <th>minute_duration</th>\n",
       "      <th>rating</th>\n",
       "      <th>cast</th>\n",
       "      <th>...</th>\n",
       "      <th>title</th>\n",
       "      <th>original_title</th>\n",
       "      <th>total_votes</th>\n",
       "      <th>weighted_average_vote</th>\n",
       "      <th>director</th>\n",
       "      <th>listed_in</th>\n",
       "      <th>season_duration</th>\n",
       "      <th>country</th>\n",
       "      <th>year_added</th>\n",
       "      <th>date_added</th>\n",
       "    </tr>\n",
       "  </thead>\n",
       "  <tbody>\n",
       "    <tr>\n",
       "      <th>0</th>\n",
       "      <td>tt5979312</td>\n",
       "      <td>s2</td>\n",
       "      <td>2016</td>\n",
       "      <td>Movie</td>\n",
       "      <td>1</td>\n",
       "      <td>After a devastating earthquake hits Mexico Cit...</td>\n",
       "      <td>93 min</td>\n",
       "      <td>93</td>\n",
       "      <td>TV-MA</td>\n",
       "      <td>Demián Bichir, Héctor Bonilla, Oscar Serrano, ...</td>\n",
       "      <td>...</td>\n",
       "      <td>7:19</td>\n",
       "      <td>7:19</td>\n",
       "      <td>536</td>\n",
       "      <td>6.0</td>\n",
       "      <td>Jorge Michel Grau</td>\n",
       "      <td>Dramas, International Movies</td>\n",
       "      <td>0</td>\n",
       "      <td>Mexico</td>\n",
       "      <td>2016</td>\n",
       "      <td>2016-12-23 00:00:00</td>\n",
       "    </tr>\n",
       "    <tr>\n",
       "      <th>1</th>\n",
       "      <td>tt2100376</td>\n",
       "      <td>s3</td>\n",
       "      <td>2011</td>\n",
       "      <td>Movie</td>\n",
       "      <td>1</td>\n",
       "      <td>When an army recruit is found dead, his fellow...</td>\n",
       "      <td>78 min</td>\n",
       "      <td>78</td>\n",
       "      <td>R</td>\n",
       "      <td>Tedd Chan, Stella Chung, Henley Hii, Lawrence ...</td>\n",
       "      <td>...</td>\n",
       "      <td>23:59</td>\n",
       "      <td>23:59</td>\n",
       "      <td>802</td>\n",
       "      <td>4.6</td>\n",
       "      <td>Gilbert Chan</td>\n",
       "      <td>Horror Movies, International Movies</td>\n",
       "      <td>0</td>\n",
       "      <td>Singapore</td>\n",
       "      <td>2018</td>\n",
       "      <td>2018-12-20 00:00:00</td>\n",
       "    </tr>\n",
       "    <tr>\n",
       "      <th>2</th>\n",
       "      <td>tt0472033</td>\n",
       "      <td>s4</td>\n",
       "      <td>2009</td>\n",
       "      <td>Movie</td>\n",
       "      <td>1</td>\n",
       "      <td>In a postapocalyptic world, rag-doll robots hi...</td>\n",
       "      <td>80 min</td>\n",
       "      <td>80</td>\n",
       "      <td>PG-13</td>\n",
       "      <td>Elijah Wood, John C. Reilly, Jennifer Connelly...</td>\n",
       "      <td>...</td>\n",
       "      <td>9</td>\n",
       "      <td>9</td>\n",
       "      <td>131029</td>\n",
       "      <td>7.1</td>\n",
       "      <td>Shane Acker</td>\n",
       "      <td>Action &amp; Adventure, Independent Movies, Sci-Fi...</td>\n",
       "      <td>0</td>\n",
       "      <td>United States</td>\n",
       "      <td>2017</td>\n",
       "      <td>2017-11-16 00:00:00</td>\n",
       "    </tr>\n",
       "    <tr>\n",
       "      <th>3</th>\n",
       "      <td>tt0478087</td>\n",
       "      <td>s5</td>\n",
       "      <td>2008</td>\n",
       "      <td>Movie</td>\n",
       "      <td>1</td>\n",
       "      <td>A brilliant group of students become card-coun...</td>\n",
       "      <td>123 min</td>\n",
       "      <td>123</td>\n",
       "      <td>PG-13</td>\n",
       "      <td>Jim Sturgess, Kevin Spacey, Kate Bosworth, Aar...</td>\n",
       "      <td>...</td>\n",
       "      <td>21</td>\n",
       "      <td>21</td>\n",
       "      <td>225698</td>\n",
       "      <td>6.8</td>\n",
       "      <td>Robert Luketic</td>\n",
       "      <td>Dramas</td>\n",
       "      <td>0</td>\n",
       "      <td>United States</td>\n",
       "      <td>2020</td>\n",
       "      <td>2020-01-01 00:00:00</td>\n",
       "    </tr>\n",
       "    <tr>\n",
       "      <th>4</th>\n",
       "      <td>tt7867670</td>\n",
       "      <td>s7</td>\n",
       "      <td>2019</td>\n",
       "      <td>Movie</td>\n",
       "      <td>1</td>\n",
       "      <td>After an awful accident, a couple admitted to ...</td>\n",
       "      <td>95 min</td>\n",
       "      <td>95</td>\n",
       "      <td>TV-MA</td>\n",
       "      <td>Amina Khalil, Ahmed Dawood, Tarek Lotfy, Ahmed...</td>\n",
       "      <td>...</td>\n",
       "      <td>122</td>\n",
       "      <td>122</td>\n",
       "      <td>3646</td>\n",
       "      <td>6.8</td>\n",
       "      <td>Yasir Al Yasiri</td>\n",
       "      <td>Horror Movies, International Movies</td>\n",
       "      <td>0</td>\n",
       "      <td>Egypt</td>\n",
       "      <td>2020</td>\n",
       "      <td>2020-06-01 00:00:00</td>\n",
       "    </tr>\n",
       "  </tbody>\n",
       "</table>\n",
       "<p>5 rows × 22 columns</p>\n",
       "</div>"
      ],
      "text/plain": [
       "  imdb_title_id show_id  release_year   type  minutely  \\\n",
       "0     tt5979312      s2          2016  Movie         1   \n",
       "1     tt2100376      s3          2011  Movie         1   \n",
       "2     tt0472033      s4          2009  Movie         1   \n",
       "3     tt0478087      s5          2008  Movie         1   \n",
       "4     tt7867670      s7          2019  Movie         1   \n",
       "\n",
       "                                         description duration  \\\n",
       "0  After a devastating earthquake hits Mexico Cit...   93 min   \n",
       "1  When an army recruit is found dead, his fellow...   78 min   \n",
       "2  In a postapocalyptic world, rag-doll robots hi...   80 min   \n",
       "3  A brilliant group of students become card-coun...  123 min   \n",
       "4  After an awful accident, a couple admitted to ...   95 min   \n",
       "\n",
       "   minute_duration rating                                               cast  \\\n",
       "0               93  TV-MA  Demián Bichir, Héctor Bonilla, Oscar Serrano, ...   \n",
       "1               78      R  Tedd Chan, Stella Chung, Henley Hii, Lawrence ...   \n",
       "2               80  PG-13  Elijah Wood, John C. Reilly, Jennifer Connelly...   \n",
       "3              123  PG-13  Jim Sturgess, Kevin Spacey, Kate Bosworth, Aar...   \n",
       "4               95  TV-MA  Amina Khalil, Ahmed Dawood, Tarek Lotfy, Ahmed...   \n",
       "\n",
       "   ...  title original_title total_votes weighted_average_vote  \\\n",
       "0  ...   7:19           7:19         536                   6.0   \n",
       "1  ...  23:59          23:59         802                   4.6   \n",
       "2  ...      9              9      131029                   7.1   \n",
       "3  ...     21             21      225698                   6.8   \n",
       "4  ...    122            122        3646                   6.8   \n",
       "\n",
       "            director                                          listed_in  \\\n",
       "0  Jorge Michel Grau                       Dramas, International Movies   \n",
       "1       Gilbert Chan                Horror Movies, International Movies   \n",
       "2        Shane Acker  Action & Adventure, Independent Movies, Sci-Fi...   \n",
       "3     Robert Luketic                                             Dramas   \n",
       "4    Yasir Al Yasiri                Horror Movies, International Movies   \n",
       "\n",
       "  season_duration        country  year_added           date_added  \n",
       "0               0         Mexico        2016  2016-12-23 00:00:00  \n",
       "1               0      Singapore        2018  2018-12-20 00:00:00  \n",
       "2               0  United States        2017  2017-11-16 00:00:00  \n",
       "3               0  United States        2020  2020-01-01 00:00:00  \n",
       "4               0          Egypt        2020  2020-06-01 00:00:00  \n",
       "\n",
       "[5 rows x 22 columns]"
      ]
     },
     "execution_count": 2,
     "metadata": {},
     "output_type": "execute_result"
    }
   ],
   "source": [
    "df = pd.read_csv(\"Dataset\\\\engineered_merge_netflix_imdb.csv\")\n",
    "\n",
    "df.head()"
   ]
  },
  {
   "cell_type": "code",
   "execution_count": 3,
   "id": "31122760",
   "metadata": {
    "scrolled": false
   },
   "outputs": [
    {
     "name": "stdout",
     "output_type": "stream",
     "text": [
      "<class 'pandas.core.frame.DataFrame'>\n",
      "RangeIndex: 1986 entries, 0 to 1985\n",
      "Data columns (total 22 columns):\n",
      " #   Column                 Non-Null Count  Dtype  \n",
      "---  ------                 --------------  -----  \n",
      " 0   imdb_title_id          1986 non-null   object \n",
      " 1   show_id                1986 non-null   object \n",
      " 2   release_year           1986 non-null   int64  \n",
      " 3   type                   1986 non-null   object \n",
      " 4   minutely               1986 non-null   int64  \n",
      " 5   description            1986 non-null   object \n",
      " 6   duration               1986 non-null   object \n",
      " 7   minute_duration        1986 non-null   int64  \n",
      " 8   rating                 1986 non-null   object \n",
      " 9   cast                   1986 non-null   object \n",
      " 10  seasonly               1986 non-null   int64  \n",
      " 11  month_added            1986 non-null   object \n",
      " 12  title                  1986 non-null   object \n",
      " 13  original_title         1986 non-null   object \n",
      " 14  total_votes            1986 non-null   int64  \n",
      " 15  weighted_average_vote  1986 non-null   float64\n",
      " 16  director               1986 non-null   object \n",
      " 17  listed_in              1986 non-null   object \n",
      " 18  season_duration        1986 non-null   int64  \n",
      " 19  country                1986 non-null   object \n",
      " 20  year_added             1986 non-null   int64  \n",
      " 21  date_added             1986 non-null   object \n",
      "dtypes: float64(1), int64(7), object(14)\n",
      "memory usage: 341.5+ KB\n"
     ]
    }
   ],
   "source": [
    "df.info()"
   ]
  },
  {
   "cell_type": "code",
   "execution_count": 4,
   "id": "53184064",
   "metadata": {},
   "outputs": [],
   "source": [
    "drop_features = ['imdb_title_id', 'show_id', 'type', 'minutely', 'description', \n",
    "                 'duration', 'minute_duration', 'seasonly', 'month_added', 'original_title',\n",
    "                 'season_duration', 'year_added', 'date_added']\n",
    "\n",
    "df = df.drop(columns=drop_features)"
   ]
  },
  {
   "cell_type": "code",
   "execution_count": 5,
   "id": "bef570e0",
   "metadata": {},
   "outputs": [
    {
     "name": "stdout",
     "output_type": "stream",
     "text": [
      "<class 'pandas.core.frame.DataFrame'>\n",
      "RangeIndex: 1986 entries, 0 to 1985\n",
      "Data columns (total 9 columns):\n",
      " #   Column                 Non-Null Count  Dtype  \n",
      "---  ------                 --------------  -----  \n",
      " 0   release_year           1986 non-null   int64  \n",
      " 1   rating                 1986 non-null   object \n",
      " 2   cast                   1986 non-null   object \n",
      " 3   title                  1986 non-null   object \n",
      " 4   total_votes            1986 non-null   int64  \n",
      " 5   weighted_average_vote  1986 non-null   float64\n",
      " 6   director               1986 non-null   object \n",
      " 7   listed_in              1986 non-null   object \n",
      " 8   country                1986 non-null   object \n",
      "dtypes: float64(1), int64(2), object(6)\n",
      "memory usage: 139.8+ KB\n"
     ]
    }
   ],
   "source": [
    "df.info()"
   ]
  },
  {
   "cell_type": "code",
   "execution_count": 6,
   "id": "43f16701",
   "metadata": {},
   "outputs": [],
   "source": [
    "def plot_bar_plot(data, x, y, p_x=10, p_y=10, title=None, x_lbl=None, y_lbl=None):\n",
    "    if title == None:\n",
    "        title = x\n",
    "    elif x_lbl == None:\n",
    "        x_lbl = x\n",
    "    elif y_lbl == None:\n",
    "        y_lbl = y\n",
    "    \n",
    "    fig = plt.subplots(figsize=(15,9))\n",
    "    \n",
    "    sns.barplot(data=data, x=x, y=y)\n",
    "    \n",
    "    plt.title(f\"Disribution of {title}\")\n",
    "    plt.xlabel(x_lbl)\n",
    "    plt.tick_params(axis='x', labelsize=p_x)\n",
    "    plt.ylabel(y_lbl)\n",
    "    plt.tick_params(axis='y', labelsize=p_y)\n",
    "    \n",
    "    return plt.show()"
   ]
  },
  {
   "cell_type": "markdown",
   "id": "1584e758",
   "metadata": {},
   "source": [
    "# Best movies"
   ]
  },
  {
   "cell_type": "code",
   "execution_count": 7,
   "id": "2d65d731",
   "metadata": {
    "scrolled": false
   },
   "outputs": [
    {
     "data": {
      "image/png": "[encoded data removed]",
      "text/plain": [
       "<Figure size 1080x648 with 1 Axes>"
      ]
     },
     "metadata": {
      "needs_background": "light"
     },
     "output_type": "display_data"
    }
   ],
   "source": [
    "top_5_movies = df[['title', 'weighted_average_vote']].sort_values('weighted_average_vote', ascending=False)[:5]\n",
    "\n",
    "plot_bar_plot(top_5_movies, 'title', 'weighted_average_vote', title='Movies', x_lbl='Title', y_lbl='weighted_average_vote')"
   ]
  },
  {
   "cell_type": "code",
   "execution_count": 8,
   "id": "270cb528",
   "metadata": {},
   "outputs": [
    {
     "data": {
      "image/png": "[encoded data removed]",
      "text/plain": [
       "<Figure size 1080x648 with 1 Axes>"
      ]
     },
     "metadata": {
      "needs_background": "light"
     },
     "output_type": "display_data"
    }
   ],
   "source": [
    "top_5_movies_direct = df[['director', 'weighted_average_vote']].sort_values('weighted_average_vote', ascending=False)[:5]\n",
    "\n",
    "plot_bar_plot(top_5_movies_direct, 'director', 'weighted_average_vote', title='Movies', \n",
    "              x_lbl='Director', y_lbl='weighted_average_vote')"
   ]
  },
  {
   "cell_type": "code",
   "execution_count": 9,
   "id": "ef5e1752",
   "metadata": {},
   "outputs": [
    {
     "data": {
      "image/png": "[encoded data removed]",
      "text/plain": [
       "<Figure size 1080x648 with 1 Axes>"
      ]
     },
     "metadata": {
      "needs_background": "light"
     },
     "output_type": "display_data"
    }
   ],
   "source": [
    "top_5_movies_year = df[['release_year', 'weighted_average_vote']].sort_values('weighted_average_vote', ascending=False)[:5]\n",
    "\n",
    "plot_bar_plot(top_5_movies_year, 'release_year', 'weighted_average_vote', title='Movies', \n",
    "              x_lbl='Year', y_lbl='weighted_average_vote')"
   ]
  },
  {
   "cell_type": "code",
   "execution_count": 10,
   "id": "6c849c2f",
   "metadata": {},
   "outputs": [
    {
     "data": {
      "image/png": "[encoded data removed]",
      "text/plain": [
       "<Figure size 1080x648 with 1 Axes>"
      ]
     },
     "metadata": {
      "needs_background": "light"
     },
     "output_type": "display_data"
    }
   ],
   "source": [
    "top_5_movies_rating = df[['rating', 'weighted_average_vote']].sort_values('weighted_average_vote', ascending=False)[:5]\n",
    "\n",
    "plot_bar_plot(top_5_movies_rating, 'rating', 'weighted_average_vote', title='Movies', \n",
    "              x_lbl='Rating', y_lbl='weighted_average_vote')"
   ]
  },
  {
   "cell_type": "code",
   "execution_count": 11,
   "id": "c64cbd1d",
   "metadata": {},
   "outputs": [
    {
     "data": {
      "image/png": "[encoded data removed]",
      "text/plain": [
       "<Figure size 1080x648 with 1 Axes>"
      ]
     },
     "metadata": {
      "needs_background": "light"
     },
     "output_type": "display_data"
    }
   ],
   "source": [
    "top_5_movies_country = df[['country', 'weighted_average_vote']].sort_values('weighted_average_vote', ascending=False)[:5]\n",
    "\n",
    "plot_bar_plot(top_5_movies_country, 'country', 'weighted_average_vote', title='Movies', \n",
    "              x_lbl='Country', y_lbl='weighted_average_vote')"
   ]
  },
  {
   "cell_type": "markdown",
   "id": "b6c60688",
   "metadata": {},
   "source": [
    "# Conclusion"
   ]
  },
  {
   "cell_type": "markdown",
   "id": "0d604952",
   "metadata": {},
   "source": [
    "In this dataset we can conclude that there are 5 best movies in this dataset are \n",
    "- Pulp Fiction\n",
    "- Schindler's List\n",
    "- Inception\n",
    "- Eh Janam Tumhare Lekhe\n",
    "- Oththa Seruppu Size 7\n",
    "\n",
    "These best movies are directed by\n",
    "- Quentin Tarantino\n",
    "- Steven Spielberg\n",
    "- Christopher Nolan\n",
    "- Harjit Singh\n",
    "- Parthiban\n",
    "\n",
    "These best movies also have common rating tv is R and the rest are\n",
    "- R\n",
    "- R\n",
    "- PG-13\n",
    "- TV-14\n",
    "- TV-MA\n",
    "\n",
    "That means in this dataset the best movies are more likely R in rating tv and inapproriate for children under 13, for the release years are\n",
    "- 1994\n",
    "- 1993\n",
    "- 2010\n",
    "- 2015\n",
    "- 2019\n",
    "\n",
    "The best movies are the best more likely the movie that made in 90's in this dataset, for the best movies are made in\n",
    "- United States\n",
    "- United States\n",
    "- United States, United Kingdom\n",
    "- India\n",
    "- India\n",
    "\n",
    "Most common of best movies are made in USA and India"
   ]
  },
  {
   "cell_type": "markdown",
   "id": "f726a41a",
   "metadata": {},
   "source": [
    "These information is from samples netflix dataset that merged with samples imdb dataset to find best rated movies"
   ]
  }
 ],
 "metadata": {
  "kernelspec": {
   "display_name": "Python 3",
   "language": "python",
   "name": "python3"
  },
  "language_info": {
   "codemirror_mode": {
    "name": "ipython",
    "version": 3
   },
   "file_extension": ".py",
   "mimetype": "text/x-python",
   "name": "python",
   "nbconvert_exporter": "python",
   "pygments_lexer": "ipython3",
   "version": "3.8.8"
  }
 },
 "nbformat": 4,
 "nbformat_minor": 5
}
